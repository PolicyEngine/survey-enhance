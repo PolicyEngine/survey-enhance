{
 "cells": [
  {
   "cell_type": "code",
   "execution_count": 1,
   "metadata": {},
   "outputs": [],
   "source": [
    "import pandas as pd\n",
    "from datasets.frs.imputations.income import SPI_TAB_FOLDER, generate_spi_table\n",
    "from datasets.frs.frs import FRS_2019_20\n",
    "from survey_enhance.percentile_matching import match_percentiles\n",
    "\n",
    "spi = pd.read_csv(SPI_TAB_FOLDER / \"put1920uk.tab\", delimiter=\"\\t\")\n",
    "spi = generate_spi_table(spi)\n",
    "\n",
    "frs = FRS_2019_20().load()\n",
    "\n",
    "percentile_matched_variables = [\n",
    "    \"employment_income\",\n",
    "    \"self_employment_income\",\n",
    "    \"pension_income\",\n",
    "    \"dividend_income\",\n",
    "    \"savings_interest_income\",\n",
    "]\n",
    "\n",
    "new_values = {}\n",
    "\n",
    "for variable in frs.keys():\n",
    "    if variable not in percentile_matched_variables:\n",
    "        new_values[variable] = frs[variable][...]\n",
    "    else:\n",
    "        new_values[variable] = match_percentiles(\n",
    "            frs[variable][...], spi[variable]\n",
    "        )"
   ]
  },
  {
   "cell_type": "code",
   "execution_count": 9,
   "metadata": {},
   "outputs": [
    {
     "data": {
      "text/plain": [
       "count     43314.000000\n",
       "mean        596.328980\n",
       "std       14475.300716\n",
       "min           0.000000\n",
       "25%           0.000000\n",
       "50%           0.000000\n",
       "75%           0.000000\n",
       "max      509091.498029\n",
       "dtype: float64"
      ]
     },
     "execution_count": 9,
     "metadata": {},
     "output_type": "execute_result"
    }
   ],
   "source": [
    "new_values[\"dividend_income\"].describe()"
   ]
  },
  {
   "cell_type": "code",
   "execution_count": 11,
   "metadata": {},
   "outputs": [
    {
     "data": {
      "text/plain": [
       "count    43314.000000\n",
       "mean       143.013337\n",
       "std       1871.871869\n",
       "min          0.000000\n",
       "25%          0.000000\n",
       "50%          0.000000\n",
       "75%          0.000000\n",
       "max      99723.035616\n",
       "dtype: float64"
      ]
     },
     "execution_count": 11,
     "metadata": {},
     "output_type": "execute_result"
    }
   ],
   "source": [
    "pd.Series(frs[\"dividend_income\"]).describe()"
   ]
  },
  {
   "cell_type": "code",
   "execution_count": 19,
   "metadata": {},
   "outputs": [],
   "source": [
    "from policyengine_uk import Microsimulation\n",
    "\n",
    "sim = Microsimulation(dataset=FRS_2019_20(), dataset_year=2019)\n",
    "person_weight = sim.calc(\"person_weight\", map_to=\"person\").values"
   ]
  },
  {
   "cell_type": "code",
   "execution_count": 23,
   "metadata": {},
   "outputs": [
    {
     "data": {
      "text/plain": [
       "1111.5268326586258"
      ]
     },
     "execution_count": 23,
     "metadata": {},
     "output_type": "execute_result"
    }
   ],
   "source": [
    "(person_weight * new_values[\"employment_income\"]).sum() / 1e9"
   ]
  }
 ],
 "metadata": {
  "kernelspec": {
   "display_name": "base",
   "language": "python",
   "name": "python3"
  },
  "language_info": {
   "codemirror_mode": {
    "name": "ipython",
    "version": 3
   },
   "file_extension": ".py",
   "mimetype": "text/x-python",
   "name": "python",
   "nbconvert_exporter": "python",
   "pygments_lexer": "ipython3",
   "version": "3.9.12"
  },
  "orig_nbformat": 4,
  "vscode": {
   "interpreter": {
    "hash": "40d3a090f54c6569ab1632332b64b2c03c39dcf918b08424e98f38b5ae0af88f"
   }
  }
 },
 "nbformat": 4,
 "nbformat_minor": 2
}
