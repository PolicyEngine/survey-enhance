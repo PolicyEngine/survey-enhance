{
 "cells": [
  {
   "cell_type": "markdown",
   "metadata": {},
   "source": [
    "# Results\n",
    "\n",
    "TL;DR: What are the effects of different microdata adjustment methods on the accuracy of the microdata in reproducing official statistics? Findings (on the UK Family Resources Survey 2018/19) in the table below."
   ]
  },
  {
   "cell_type": "code",
   "execution_count": 1,
   "metadata": {
    "tags": [
     "hide-input"
    ]
   },
   "outputs": [
    {
     "data": {
      "text/html": [
       "<style type=\"text/css\">\n",
       "</style>\n",
       "<table id=\"T_07223\">\n",
       "  <thead>\n",
       "    <tr>\n",
       "      <th id=\"T_07223_level0_col0\" class=\"col_heading level0 col0\" >Adjustment</th>\n",
       "      <th id=\"T_07223_level0_col1\" class=\"col_heading level0 col1\" >Accuracy improvement</th>\n",
       "    </tr>\n",
       "  </thead>\n",
       "  <tbody>\n",
       "    <tr>\n",
       "      <td id=\"T_07223_row0_col0\" class=\"data row0 col0\" >Percentile matching (dividends only)</td>\n",
       "      <td id=\"T_07223_row0_col1\" class=\"data row0 col1\" >+0.13%</td>\n",
       "    </tr>\n",
       "    <tr>\n",
       "      <td id=\"T_07223_row1_col0\" class=\"data row1 col0\" >None</td>\n",
       "      <td id=\"T_07223_row1_col1\" class=\"data row1 col1\" >0.00%</td>\n",
       "    </tr>\n",
       "    <tr>\n",
       "      <td id=\"T_07223_row2_col0\" class=\"data row2 col0\" >Percentile matching (all)</td>\n",
       "      <td id=\"T_07223_row2_col1\" class=\"data row2 col1\" >-3.92%</td>\n",
       "    </tr>\n",
       "  </tbody>\n",
       "</table>\n"
      ],
      "text/plain": [
       "<pandas.io.formats.style.Styler at 0x7fa7a25a74f0>"
      ]
     },
     "execution_count": 1,
     "metadata": {},
     "output_type": "execute_result"
    }
   ],
   "source": [
    "import pandas as pd\n",
    "import warnings\n",
    "warnings.filterwarnings('ignore')\n",
    "warnings.simplefilter(action='ignore')\n",
    "\n",
    "df = pd.DataFrame({\n",
    "    \"Adjustment\": [\n",
    "        \"None\", \n",
    "        \"Percentile matching (all)\", \n",
    "        \"Percentile matching (pensioner/non-pensioner split)\",\n",
    "        \"Percentile matching (dividends only)\"\n",
    "    ],\n",
    "    \"Loss\": [\n",
    "        1., \n",
    "        1.039242148399353, \n",
    "        1.0089750289916992,\n",
    "        0.9986706972122192\n",
    "    ],\n",
    "})\n",
    "\n",
    "df[\"Accuracy improvement\"] = [f\"{x:+.2%}\" if x != 0 else f\"{x:.2%}\" for x in (df[\"Loss\"].iloc[0] - df[\"Loss\"]) / df[\"Loss\"].iloc[0]]\n",
    "df.sort_values(\"Loss\").drop(columns=[\"Loss\"]).style.hide(subset=None, level=None, names=False)"
   ]
  }
 ],
 "metadata": {
  "kernelspec": {
   "display_name": "Python 3.9.12 ('base')",
   "language": "python",
   "name": "python3"
  },
  "language_info": {
   "codemirror_mode": {
    "name": "ipython",
    "version": 3
   },
   "file_extension": ".py",
   "mimetype": "text/x-python",
   "name": "python",
   "nbconvert_exporter": "python",
   "pygments_lexer": "ipython3",
   "version": "3.9.12"
  },
  "orig_nbformat": 4,
  "vscode": {
   "interpreter": {
    "hash": "40d3a090f54c6569ab1632332b64b2c03c39dcf918b08424e98f38b5ae0af88f"
   }
  }
 },
 "nbformat": 4,
 "nbformat_minor": 2
}
